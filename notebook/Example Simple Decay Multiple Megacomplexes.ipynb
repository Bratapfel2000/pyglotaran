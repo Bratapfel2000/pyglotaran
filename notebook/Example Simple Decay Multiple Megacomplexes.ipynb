{
 "cells": [
  {
   "cell_type": "code",
   "execution_count": 1,
   "metadata": {
    "collapsed": false
   },
   "outputs": [],
   "source": [
    "from glotaran_tools.specification_parser import parse_yml\n",
    "from glotaran_core.model import Dataset\n",
    "from glotaran_models.kinetic import KineticSeperableModel\n",
    "import numpy as np\n",
    "from lmfit import Parameters\n",
    "\n",
    "fitspec = '''\n",
    "type: kinetic\n",
    "\n",
    "parameter: {}\n",
    "\n",
    "compartments: [s1, s2, s3]\n",
    "\n",
    "megacomplexes:\n",
    "    - label: mc1\n",
    "      k_matrices: [k1]\n",
    "    - label: mc2\n",
    "      k_matrices: [k2]\n",
    "\n",
    "k_matrices:\n",
    "  - label: \"k1\"\n",
    "    matrix: {{\n",
    "      '(\"s1\",\"s1\")': 1,\n",
    "      '(\"s2\",\"s2\")': 2,\n",
    "}}\n",
    "  - label: \"k2\"\n",
    "    matrix: {{\n",
    "      '(\"s3\",\"s3\")': 3,\n",
    "}}\n",
    "\n",
    "initial_concentrations: []\n",
    "\n",
    "irf: []\n",
    "\n",
    "datasets: \n",
    "  - label: dataset1\n",
    "    type: spectral\n",
    "    megacomplexes: [mc1, mc2]\n",
    "    path: 'data/dataset1.ascii'\n",
    "\n",
    "'''\n",
    "   "
   ]
  },
  {
   "cell_type": "code",
   "execution_count": 2,
   "metadata": {
    "collapsed": false
   },
   "outputs": [],
   "source": [
    "test_parameter = [101e-4, 202e-5, 505e-6]\n",
    "test_amps = [1,2,3]\n",
    "times = np.asarray(np.arange(0, 1500, 1.5))\n",
    "simparams = Parameters()\n",
    "simparams.add(\"p1\", 101e-3)\n",
    "simparams.add(\"p2\",202e-4)\n",
    "simparams.add(\"p3\",505e-5)"
   ]
  },
  {
   "cell_type": "code",
   "execution_count": 3,
   "metadata": {
    "collapsed": false
   },
   "outputs": [
    {
     "name": "stdout",
     "output_type": "stream",
     "text": [
      "[]\n"
     ]
    }
   ],
   "source": [
    "model = parse_yml(fitspec.format(test_parameter))"
   ]
  },
  {
   "cell_type": "code",
   "execution_count": 4,
   "metadata": {
    "collapsed": false
   },
   "outputs": [],
   "source": [
    "fitmodel = KineticSeperableModel(model)"
   ]
  },
  {
   "cell_type": "code",
   "execution_count": 5,
   "metadata": {
    "collapsed": false
   },
   "outputs": [],
   "source": [
    "data = fitmodel.eval(simparams, *times, **{'dataset':'dataset1'})"
   ]
  },
  {
   "cell_type": "code",
   "execution_count": 6,
   "metadata": {
    "collapsed": false
   },
   "outputs": [
    {
     "name": "stdout",
     "output_type": "stream",
     "text": [
      "   Iteration     Total nfev        Cost      Cost reduction    Step norm     Optimality   \n",
      "       0              1         2.0686e+00                                    1.92e+02    \n",
      "       1              2         1.3858e+00      6.83e-01       1.03e-02       1.54e+02    \n",
      "       2              4         9.8320e-01      4.03e-01       5.16e-03       2.35e+02    \n",
      "       3              5         5.0532e-01      4.78e-01       1.03e-02       2.25e+02    \n",
      "       4              6         1.9729e-01      3.08e-01       2.01e-02       2.40e+02    \n",
      "       5              7         1.2687e-01      7.04e-02       2.23e-02       2.42e+02    \n",
      "       6              8         3.2710e-02      9.42e-02       4.81e-03       1.62e+02    \n",
      "       7              9         2.8367e-03      2.99e-02       1.42e-02       2.08e+01    \n",
      "       8             10         1.4298e-04      2.69e-03       1.44e-02       5.08e+00    \n",
      "       9             11         1.9592e-07      1.43e-04       2.97e-03       3.29e-01    \n",
      "      10             12         4.7891e-14      1.96e-07       2.01e-05       1.54e-04    \n",
      "      11             13         1.9729e-25      4.79e-14       8.58e-09       5.15e-10    \n",
      "      12             14         2.7789e-28      1.97e-25       4.32e-14       1.49e-12    \n",
      "`gtol` termination condition is satisfied.\n",
      "Function evaluations 14, initial cost 2.0686e+00, final cost 2.7789e-28, first-order optimality 1.49e-12.\n",
      "Parameters([('p1', <Parameter 'p1', 0.10099999999999912, bounds=[-inf:inf]>), ('p2', <Parameter 'p2', 0.020199999999999899, bounds=[-inf:inf]>), ('p3', <Parameter 'p3', 0.0050499999999999946, bounds=[-inf:inf]>)])\n"
     ]
    }
   ],
   "source": [
    "result = fitmodel.fit(fitmodel.get_initial_fitting_parameter(), \n",
    "                      *times, \n",
    "                      **{\"data\": data}\n",
    "                     )\n",
    "print(result.params)"
   ]
  },
  {
   "cell_type": "code",
   "execution_count": null,
   "metadata": {
    "collapsed": true
   },
   "outputs": [],
   "source": []
  }
 ],
 "metadata": {
  "kernelspec": {
   "display_name": "Python 3",
   "language": "python",
   "name": "python3"
  },
  "language_info": {
   "codemirror_mode": {
    "name": "ipython",
    "version": 3
   },
   "file_extension": ".py",
   "mimetype": "text/x-python",
   "name": "python",
   "nbconvert_exporter": "python",
   "pygments_lexer": "ipython3",
   "version": "3.5.1"
  }
 },
 "nbformat": 4,
 "nbformat_minor": 1
}
