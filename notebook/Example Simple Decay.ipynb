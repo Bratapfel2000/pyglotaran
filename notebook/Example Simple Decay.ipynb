{
 "cells": [
  {
   "cell_type": "code",
   "execution_count": 10,
   "metadata": {
    "collapsed": false
   },
   "outputs": [],
   "source": [
    "from glotaran_tools.specification_parser import parse_yml\n",
    "from glotaran_core.model import Dataset\n",
    "from glotaran_models.kinetic import KineticSeperableModel\n",
    "import numpy as np\n",
    "from lmfit import Parameters\n",
    "# Imports for plotting\n",
    "\n",
    "import matplotlib.pyplot as plt\n",
    "%matplotlib notebook\n",
    "\n",
    "fitspec = '''\n",
    "type: kinetic\n",
    "\n",
    "parameter: {}\n",
    "\n",
    "compartments: [s1, s2, s3]\n",
    "\n",
    "initial_concentrations:\n",
    "    - label: i1\n",
    "      parameter: [4,5,6]\n",
    "\n",
    "megacomplexes:\n",
    "    - label: mc1\n",
    "      k_matrices: [k1]\n",
    "\n",
    "k_matrices:\n",
    "  - label: \"k1\"\n",
    "    matrix: {{\n",
    "      '(\"s1\",\"s1\")': 1,\n",
    "      '(\"s2\",\"s2\")': 2,\n",
    "      '(\"s3\",\"s3\")': 3,\n",
    "}}\n",
    "\n",
    "irf: []\n",
    "\n",
    "datasets: \n",
    "  - label: dataset1\n",
    "    type: spectral\n",
    "    initial_oncentration: i1\n",
    "    megacomplexes: [mc1]\n",
    "    path: 'data/dataset1.ascii'\n",
    "\n",
    "'''\n",
    "   "
   ]
  },
  {
   "cell_type": "code",
   "execution_count": 16,
   "metadata": {
    "collapsed": false
   },
   "outputs": [],
   "source": [
    "test_parameter = [101e-4, 202e-5, 505e-6]\n",
    "test_amps = [1,2,3]\n",
    "times = np.asarray(np.arange(0, 1500, 1.5))\n",
    "simparams = Parameters()\n",
    "simparams.add(\"p1\", 101e-3)\n",
    "simparams.add(\"p2\",202e-4)\n",
    "simparams.add(\"p3\",505e-5)"
   ]
  },
  {
   "cell_type": "code",
   "execution_count": 17,
   "metadata": {
    "collapsed": false
   },
   "outputs": [],
   "source": [
    "        \n",
    "model = parse_yml(fitspec.format(test_parameter))"
   ]
  },
  {
   "cell_type": "code",
   "execution_count": 18,
   "metadata": {
    "collapsed": false
   },
   "outputs": [],
   "source": [
    "fitmodel = KineticSeperableModel(model)"
   ]
  },
  {
   "cell_type": "code",
   "execution_count": 19,
   "metadata": {
    "collapsed": false
   },
   "outputs": [
    {
     "name": "stdout",
     "output_type": "stream",
     "text": [
      "[[ 1.  1.  1.]]\n"
     ]
    }
   ],
   "source": [
    "print(fitmodel.e_matrix(**{'dataset':'dataset1'}))\n",
    "data = fitmodel.eval(simparams, *times, **{'dataset':'dataset1'})"
   ]
  },
  {
   "cell_type": "code",
   "execution_count": 20,
   "metadata": {
    "collapsed": false,
    "scrolled": true
   },
   "outputs": [
    {
     "name": "stdout",
     "output_type": "stream",
     "text": [
      "(1000, 3)\n"
     ]
    }
   ],
   "source": [
    "c = fitmodel.c_matrix(fitmodel.get_initial_fitting_parameter().valuesdict(), *times)\n",
    "print(c.shape)"
   ]
  },
  {
   "cell_type": "code",
   "execution_count": 21,
   "metadata": {
    "collapsed": false
   },
   "outputs": [
    {
     "name": "stdout",
     "output_type": "stream",
     "text": [
      "   Iteration     Total nfev        Cost      Cost reduction    Step norm     Optimality   \n",
      "       0              1         1.9618e+00                                    3.37e+02    \n",
      "       1              3         1.3170e+00      6.45e-01       2.58e-03       1.77e+02    \n",
      "       2              4         8.5563e-01      4.61e-01       5.16e-03       9.93e+01    \n",
      "       3              5         4.2961e-01      4.26e-01       1.03e-02       2.34e+02    \n",
      "       4              6         1.2556e-01      3.04e-01       1.19e-02       9.07e+01    \n",
      "       5              7         7.4509e-02      5.11e-02       7.54e-03       3.94e+00    \n",
      "       6              8         6.2819e-02      1.17e-02       6.00e-03       2.56e+01    \n",
      "       7             10         4.4607e-02      1.82e-02       1.76e-03       6.39e+00    \n",
      "       8             11         3.9570e-02      5.04e-03       3.52e-03       1.88e+01    \n",
      "       9             12         2.7290e-02      1.23e-02       3.52e-03       6.90e+00    \n",
      "      10             13         1.6873e-02      1.04e-02       7.04e-03       1.06e+01    \n",
      "      11             14         5.9207e-03      1.10e-02       1.41e-02       9.88e-01    \n",
      "      12             15         9.2090e-04      5.00e-03       2.01e-02       1.06e+01    \n",
      "      13             16         2.7080e-06      9.18e-04       2.95e-03       9.66e-01    \n",
      "      14             17         7.9377e-13      2.71e-06       4.14e-05       2.52e-04    \n",
      "      15             18         1.2027e-24      7.94e-13       2.13e-07       4.02e-10    \n",
      "      16             19         7.8193e-29      1.20e-24       5.32e-14       2.04e-13    \n",
      "`gtol` termination condition is satisfied.\n",
      "Function evaluations 19, initial cost 1.9618e+00, final cost 7.8193e-29, first-order optimality 2.04e-13.\n",
      "Parameters([('p1', <Parameter 'p1', 0.10100000000000126, bounds=[-inf:inf]>), ('p2', <Parameter 'p2', 0.020200000000000114, bounds=[-inf:inf]>), ('p3', <Parameter 'p3', 0.0050500000000000033, bounds=[-inf:inf]>)])\n"
     ]
    }
   ],
   "source": [
    "result = fitmodel.fit(fitmodel.get_initial_fitting_parameter(), \n",
    "                      *times, \n",
    "                      **{\"data\": data}\n",
    "                     )\n",
    "print(result.params)"
   ]
  }
 ],
 "metadata": {
  "kernelspec": {
   "display_name": "Python 3",
   "language": "python",
   "name": "python3"
  },
  "language_info": {
   "codemirror_mode": {
    "name": "ipython",
    "version": 3
   },
   "file_extension": ".py",
   "mimetype": "text/x-python",
   "name": "python",
   "nbconvert_exporter": "python",
   "pygments_lexer": "ipython3",
   "version": "3.5.1"
  }
 },
 "nbformat": 4,
 "nbformat_minor": 1
}
