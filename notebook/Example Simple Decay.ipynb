{
 "cells": [
  {
   "cell_type": "code",
   "execution_count": 1,
   "metadata": {
    "collapsed": false
   },
   "outputs": [],
   "source": [
    "from glotaran_tools.specification_parser import parse_yml\n",
    "from glotaran_core.model import Dataset\n",
    "from glotaran_models.kinetic import KineticSeperableModel\n",
    "import numpy as np\n",
    "# Imports for plotting\n",
    "\n",
    "import matplotlib.pyplot as plt\n",
    "%matplotlib notebook"
   ]
  },
  {
   "cell_type": "code",
   "execution_count": 2,
   "metadata": {
    "collapsed": false
   },
   "outputs": [],
   "source": [
    "test_parameter = [101e-4, 202e-5, 505e-5, 1]\n",
    "test_amp = 5.6"
   ]
  },
  {
   "cell_type": "code",
   "execution_count": 3,
   "metadata": {
    "collapsed": false
   },
   "outputs": [],
   "source": [
    "class SimpleDecay(Dataset):\n",
    "    def __init__(self, amp, rate):\n",
    "        self.timepoints = np.asarray(np.arange(0, 200, 1.5)).tolist()\n",
    "        self._channel = []\n",
    "\n",
    "        for i in range(len(self.timepoints)):\n",
    "            self._channel.append(\n",
    "                amp * np.exp(-self.timepoints[i] * 10 * rate)\n",
    "            )\n",
    "\n",
    "    def channels(self):\n",
    "        return [self._channel]\n",
    "    \n",
    "dataset = SimpleDecay(test_amp, test_parameter[0])\n",
    "# plot 2 channels\n",
    "# fig1 = plt.figure()\n",
    "#plt.plot(dataset.channels()[0])"
   ]
  },
  {
   "cell_type": "code",
   "execution_count": 18,
   "metadata": {
    "collapsed": false
   },
   "outputs": [
    {
     "name": "stdout",
     "output_type": "stream",
     "text": [
      "[[ 1.  0.  0.]\n",
      " [ 0.  2.  0.]\n",
      " [ 0.  0.  3.]]\n"
     ]
    }
   ],
   "source": [
    "spec = '''\n",
    "type: kinetic\n",
    "\n",
    "parameter: {}\n",
    "\n",
    "initial_concentrations:\n",
    "    - label: i1\n",
    "      parameter: [4,4,4]\n",
    "\n",
    "megacomplexes:\n",
    "    - label: mc1\n",
    "      k_matrices: [k1]\n",
    "\n",
    "k_matrices:\n",
    "  - label: \"k1\"\n",
    "    matrix: {{\n",
    "      '(1,1)': 1,\n",
    "      '(2,2)': 2,\n",
    "      '(3,3)': 3,\n",
    "}}\n",
    "\n",
    "irf: []\n",
    "\n",
    "datasets: \n",
    "  - label: dataset1\n",
    "    type: spectral\n",
    "    megacomplexes: [mc1]\n",
    "    path: 'data/dataset1.ascii'\n",
    "\n",
    "'''.format(test_parameter)\n",
    "           \n",
    "model = parse_yml(spec)\n",
    "print(model.k_matrices['k1'].matrix.toarray().astype(float))"
   ]
  },
  {
   "cell_type": "code",
   "execution_count": 19,
   "metadata": {
    "collapsed": false
   },
   "outputs": [
    {
     "name": "stdout",
     "output_type": "stream",
     "text": [
      "Parameters([('p1', <Parameter 'p1', 0.0101, bounds=[-inf:inf]>), ('p2', <Parameter 'p2', 0.00202, bounds=[-inf:inf]>), ('p3', <Parameter 'p3', 0.00505, bounds=[-inf:inf]>), ('p4', <Parameter 'p4', 1.0, bounds=[-inf:inf]>)])\n",
      "[[-0.0101   0.       0.     ]\n",
      " [ 0.      -0.00202  0.     ]\n",
      " [ 0.       0.      -0.00505]]\n",
      "(array([-0.00202, -0.00505, -0.0101 ]), array([[ 0.,  0.,  1.],\n",
      "       [ 1.,  0.,  0.],\n",
      "       [ 0.,  1.,  0.]]))\n"
     ]
    }
   ],
   "source": [
    "fitmodel = KineticSeperableModel(model)\n",
    "print(fitmodel.get_initial_fitting_parameter())\n",
    "print(fitmodel._construct_k_matrix(fitmodel.get_initial_fitting_parameter(), model.k_matrices['k1'].matrix.toarray().astype(float)))\n",
    "print(fitmodel._construct_k_matrix_eigen(fitmodel.get_initial_fitting_parameter(), \n",
    "                                                 model.k_matrices['k1'].matrix.toarray().astype(float)))"
   ]
  },
  {
   "cell_type": "code",
   "execution_count": 20,
   "metadata": {
    "collapsed": false
   },
   "outputs": [
    {
     "name": "stdout",
     "output_type": "stream",
     "text": [
      "Dataset 'dataset1'\n",
      "\n",
      "\tDataset Scaling: None\n",
      "\tInitial Concentration: []\n",
      "\tMegacomplexes: ['mc1']\n",
      "\n",
      "\tIrf: None\n"
     ]
    }
   ],
   "source": [
    "print(model.datasets['dataset1'])"
   ]
  },
  {
   "cell_type": "code",
   "execution_count": 21,
   "metadata": {
    "collapsed": false
   },
   "outputs": [
    {
     "name": "stdout",
     "output_type": "stream",
     "text": [
      "{'k1': <glotaran_models.kinetic.k_matrix.KMatrix object at 0x7fd8f15c32b0>}\n"
     ]
    }
   ],
   "source": [
    "print(model.k_matrices)"
   ]
  },
  {
   "cell_type": "code",
   "execution_count": 22,
   "metadata": {
    "collapsed": true
   },
   "outputs": [],
   "source": [
    "f = np.vectorize(\n",
    "            lambda i: 7 if i != 0 else 5)"
   ]
  },
  {
   "cell_type": "code",
   "execution_count": 23,
   "metadata": {
    "collapsed": false
   },
   "outputs": [
    {
     "name": "stdout",
     "output_type": "stream",
     "text": [
      "[[7 5 5]\n",
      " [5 7 5]\n",
      " [5 5 7]]\n"
     ]
    }
   ],
   "source": [
    "print(f(model.k_matrices['k1'].matrix.toarray()))"
   ]
  },
  {
   "cell_type": "code",
   "execution_count": 24,
   "metadata": {
    "collapsed": true
   },
   "outputs": [],
   "source": [
    "#Usage:\n",
    "#  addAtPos(xycoor)\n",
    "#    - mat1  : matrix to be added\n",
    "#    - mat2  : add this matrix to mat1\n",
    "#    - xycoor: tuple (x,y) containing coordinates\n",
    "def addAtPos(mat1, mat2, xycoor):\n",
    "    size_x, size_y = np.shape(mat2)\n",
    "    coor_x, coor_y = xycoor\n",
    "    end_x, end_y   = (coor_x + size_x), (coor_y + size_y)\n",
    "    mat1[coor_x:end_x, coor_y:end_y] = mat1[coor_x:end_x, coor_y:end_y] + mat2\n",
    "    return mat1"
   ]
  },
  {
   "cell_type": "code",
   "execution_count": 25,
   "metadata": {
    "collapsed": false
   },
   "outputs": [
    {
     "name": "stdout",
     "output_type": "stream",
     "text": [
      "(3, 3)\n",
      "[[3 3 2]\n",
      " [3 3 2]\n",
      " [2 2 2]]\n"
     ]
    }
   ],
   "source": [
    "A = np.array([[1,1],[1,1]])\n",
    "B = np.asarray([[2,2,2],[2,2,2], [2,2,2]])\n",
    "print(B.shape)\n",
    "print(addAtPos(B,A,(0,0)))\n"
   ]
  },
  {
   "cell_type": "code",
   "execution_count": 26,
   "metadata": {
    "collapsed": false,
    "scrolled": true
   },
   "outputs": [
    {
     "data": {
      "text/plain": [
       "array([[ 1.        ,  1.        ,  1.        ],\n",
       "       [ 1.0030346 ,  1.00760376,  1.01526534],\n",
       "       [ 1.0060784 ,  1.01526534,  1.03076372],\n",
       "       [ 1.00913144,  1.02298518,  1.04649868],\n",
       "       [ 1.01219374,  1.03076372,  1.06247384],\n",
       "       [ 1.01526534,  1.0386014 ,  1.07869287],\n",
       "       [ 1.01834626,  1.04649868,  1.09515948],\n",
       "       [ 1.02143653,  1.05445601,  1.11187747],\n",
       "       [ 1.02453618,  1.06247384,  1.12885066],\n",
       "       [ 1.02764523,  1.07055264,  1.14608295],\n",
       "       [ 1.03076372,  1.07869287,  1.1635783 ],\n",
       "       [ 1.03389167,  1.08689499,  1.18134072],\n",
       "       [ 1.03702911,  1.09515948,  1.1993743 ],\n",
       "       [ 1.04017607,  1.10348682,  1.21768316],\n",
       "       [ 1.04333259,  1.11187747,  1.23627151],\n",
       "       [ 1.04649868,  1.12033192,  1.25514361],\n",
       "       [ 1.04967438,  1.12885066,  1.27430381],\n",
       "       [ 1.05285971,  1.13743417,  1.2937565 ],\n",
       "       [ 1.05605472,  1.14608295,  1.31350613],\n",
       "       [ 1.05925942,  1.1547975 ,  1.33355726],\n",
       "       [ 1.06247384,  1.1635783 ,  1.35391446],\n",
       "       [ 1.06569802,  1.17242588,  1.37458243],\n",
       "       [ 1.06893198,  1.18134072,  1.39556591],\n",
       "       [ 1.07217576,  1.19032336,  1.4168697 ],\n",
       "       [ 1.07542937,  1.1993743 ,  1.4384987 ],\n",
       "       [ 1.07869287,  1.20849405,  1.46045788],\n",
       "       [ 1.08196626,  1.21768316,  1.48275227],\n",
       "       [ 1.08524959,  1.22694213,  1.50538699],\n",
       "       [ 1.08854289,  1.23627151,  1.52836724],\n",
       "       [ 1.09184617,  1.24567182,  1.55169829],\n",
       "       [ 1.09515948,  1.25514361,  1.57538549],\n",
       "       [ 1.09848285,  1.26468743,  1.59943429],\n",
       "       [ 1.1018163 ,  1.27430381,  1.62385021],\n",
       "       [ 1.10515987,  1.28399332,  1.64863884],\n",
       "       [ 1.10851358,  1.2937565 ,  1.67380587],\n",
       "       [ 1.11187747,  1.30359391,  1.69935709],\n",
       "       [ 1.11525157,  1.31350613,  1.72529836],\n",
       "       [ 1.1186359 ,  1.32349372,  1.75163564],\n",
       "       [ 1.12203051,  1.33355726,  1.77837495],\n",
       "       [ 1.12543542,  1.34369731,  1.80552246],\n",
       "       [ 1.12885066,  1.35391446,  1.83308438],\n",
       "       [ 1.13227626,  1.36420931,  1.86106704],\n",
       "       [ 1.13571226,  1.37458243,  1.88947687],\n",
       "       [ 1.13915869,  1.38503443,  1.91832038],\n",
       "       [ 1.14261558,  1.39556591,  1.9476042 ],\n",
       "       [ 1.14608295,  1.40617746,  1.97733504],\n",
       "       [ 1.14956085,  1.4168697 ,  2.00751974],\n",
       "       [ 1.1530493 ,  1.42764324,  2.03816522],\n",
       "       [ 1.15654834,  1.4384987 ,  2.06927851],\n",
       "       [ 1.160058  ,  1.4494367 ,  2.10086675],\n",
       "       [ 1.1635783 ,  1.46045788,  2.13293721],\n",
       "       [ 1.16710929,  1.47156285,  2.16549722],\n",
       "       [ 1.17065099,  1.48275227,  2.19855428],\n",
       "       [ 1.17420345,  1.49402676,  2.23211597],\n",
       "       [ 1.17776668,  1.50538699,  2.26618998],\n",
       "       [ 1.18134072,  1.51683359,  2.30078415],\n",
       "       [ 1.18492561,  1.52836724,  2.33590641],\n",
       "       [ 1.18852138,  1.53998858,  2.37156482],\n",
       "       [ 1.19212807,  1.55169829,  2.40776757],\n",
       "       [ 1.19574569,  1.56349703,  2.44452297],\n",
       "       [ 1.1993743 ,  1.57538549,  2.48183945],\n",
       "       [ 1.20301391,  1.58736435,  2.51972558],\n",
       "       [ 1.20666457,  1.59943429,  2.55819006],\n",
       "       [ 1.21032631,  1.61159601,  2.59724171],\n",
       "       [ 1.21399916,  1.62385021,  2.63688949],\n",
       "       [ 1.21768316,  1.63619758,  2.67714252],\n",
       "       [ 1.22137833,  1.64863884,  2.71801001],\n",
       "       [ 1.22508472,  1.6611747 ,  2.75950137],\n",
       "       [ 1.22880236,  1.67380587,  2.8016261 ],\n",
       "       [ 1.23253127,  1.6865331 ,  2.84439389],\n",
       "       [ 1.23627151,  1.69935709,  2.88781454],\n",
       "       [ 1.24002309,  1.7122786 ,  2.93189802],\n",
       "       [ 1.24378606,  1.72529836,  2.97665444],\n",
       "       [ 1.24756044,  1.73841712,  3.02209409],\n",
       "       [ 1.25134629,  1.75163564,  3.0682274 ],\n",
       "       [ 1.25514361,  1.76495466,  3.11506494],\n",
       "       [ 1.25895247,  1.77837495,  3.16261748],\n",
       "       [ 1.26277288,  1.7918973 ,  3.21089592],\n",
       "       [ 1.26660488,  1.80552246,  3.25991134],\n",
       "       [ 1.27044852,  1.81925122,  3.30967501],\n",
       "       [ 1.27430381,  1.83308438,  3.36019833],\n",
       "       [ 1.27817081,  1.84702272,  3.41149291],\n",
       "       [ 1.28204954,  1.86106704,  3.46357052],\n",
       "       [ 1.28594004,  1.87521815,  3.51644311],\n",
       "       [ 1.28984235,  1.88947687,  3.57012283],\n",
       "       [ 1.2937565 ,  1.903844  ,  3.62462197],\n",
       "       [ 1.29768252,  1.91832038,  3.67995307],\n",
       "       [ 1.30162047,  1.93290683,  3.73612882],\n",
       "       [ 1.30557036,  1.9476042 ,  3.79316211],\n",
       "       [ 1.30953223,  1.96241332,  3.85106603],\n",
       "       [ 1.31350613,  1.97733504,  3.90985387],\n",
       "       [ 1.31749209,  1.99237023,  3.96953913],\n",
       "       [ 1.32149015,  2.00751974,  4.03013551],\n",
       "       [ 1.32550034,  2.02278444,  4.09165691],\n",
       "       [ 1.32952269,  2.03816522,  4.15411745],\n",
       "       [ 1.33355726,  2.05366294,  4.21753148],\n",
       "       [ 1.33760406,  2.06927851,  4.28191355],\n",
       "       [ 1.34166315,  2.08501281,  4.34727843],\n",
       "       [ 1.34573455,  2.10086675,  4.41364112],\n",
       "       [ 1.34981831,  2.11684125,  4.48101687],\n",
       "       [ 1.35391446,  2.13293721,  4.54942113],\n",
       "       [ 1.35802305,  2.14915556,  4.6188696 ],\n",
       "       [ 1.3621441 ,  2.16549722,  4.68937823],\n",
       "       [ 1.36627765,  2.18196315,  4.7609632 ],\n",
       "       [ 1.37042375,  2.19855428,  4.83364093],\n",
       "       [ 1.37458243,  2.21527157,  4.90742812],\n",
       "       [ 1.37875373,  2.23211597,  4.98234169],\n",
       "       [ 1.38293769,  2.24908845,  5.05839885],\n",
       "       [ 1.38713435,  2.26618998,  5.13561704],\n",
       "       [ 1.39134374,  2.28342155,  5.214014  ],\n",
       "       [ 1.39556591,  2.30078415,  5.29360771],\n",
       "       [ 1.39980088,  2.31827877,  5.37441645],\n",
       "       [ 1.40404871,  2.33590641,  5.45645876],\n",
       "       [ 1.40830943,  2.35366809,  5.53975347],\n",
       "       [ 1.41258308,  2.37156482,  5.62431971],\n",
       "       [ 1.4168697 ,  2.38959764,  5.71017688],\n",
       "       [ 1.42116932,  2.40776757,  5.79734469],\n",
       "       [ 1.425482  ,  2.42607567,  5.88584314],\n",
       "       [ 1.42980776,  2.44452297,  5.97569256],\n",
       "       [ 1.43414665,  2.46311054,  6.06691355],\n",
       "       [ 1.4384987 ,  2.48183945,  6.15952707],\n",
       "       [ 1.44286396,  2.50071077,  6.25355436],\n",
       "       [ 1.44724247,  2.51972558,  6.34901701],\n",
       "       [ 1.45163426,  2.53888498,  6.44593694],\n",
       "       [ 1.45603939,  2.55819006,  6.54433637],\n",
       "       [ 1.46045788,  2.57764193,  6.64423791],\n",
       "       [ 1.46488977,  2.59724171,  6.74566448],\n",
       "       [ 1.46933512,  2.61699052,  6.84863937],\n",
       "       [ 1.47379396,  2.63688949,  6.9531862 ],\n",
       "       [ 1.47826633,  2.65693978,  7.05932897],\n",
       "       [ 1.48275227,  2.67714252,  7.16709205],\n",
       "       [ 1.48725182,  2.69749887,  7.27650016],\n",
       "       [ 1.49176503,  2.71801001,  7.38757844],\n",
       "       [ 1.49629193,  2.73867712,  7.50035235]])"
      ]
     },
     "execution_count": 26,
     "metadata": {},
     "output_type": "execute_result"
    }
   ],
   "source": [
    "fitmodel.c_matrix(fitmodel.get_initial_fitting_parameter().valuesdict(), *dataset.timepoints)"
   ]
  },
  {
   "cell_type": "code",
   "execution_count": 27,
   "metadata": {
    "collapsed": false
   },
   "outputs": [
    {
     "name": "stdout",
     "output_type": "stream",
     "text": [
      "   Iteration     Total nfev        Cost      Cost reduction    Step norm     Optimality   \n",
      "       0              1         3.1925e+01                                    5.88e+02    \n",
      "       1              2         4.0839e+00      2.78e+01       1.00e+00       3.93e+01    \n",
      "       2              5         1.9604e-03      4.08e+00       1.25e-01       2.27e+00    \n",
      "       3              6         4.5970e-07      1.96e-03       2.50e-01       3.56e-02    \n",
      "       4              7         2.3468e-14      4.60e-07       5.00e-01       8.05e-06    \n",
      "       5              8         1.5616e-28      2.35e-14       1.00e+00       6.25e-13    \n",
      "`gtol` termination condition is satisfied.\n",
      "Function evaluations 8, initial cost 3.1925e+01, final cost 1.5616e-28, first-order optimality 6.25e-13.\n",
      "Parameters([('p1', <Parameter 'p1', -0.1010000000000004, bounds=[-inf:inf]>), ('p2', <Parameter 'p2', -0.57900967509172319, bounds=[-inf:inf]>), ('p3', <Parameter 'p3', 2.0429931570451454, bounds=[-inf:inf]>), ('p4', <Parameter 'p4', 1.0, bounds=[-inf:inf]>)])\n"
     ]
    }
   ],
   "source": [
    "result = fitmodel.fit(fitmodel.get_initial_fitting_parameter(), \n",
    "                      *dataset.timepoints, \n",
    "                      **{\"data\": np.asarray(dataset.channels()).T}\n",
    "                     )\n",
    "print(result.params)"
   ]
  },
  {
   "cell_type": "code",
   "execution_count": 28,
   "metadata": {
    "collapsed": false
   },
   "outputs": [
    {
     "name": "stdout",
     "output_type": "stream",
     "text": [
      "(134, 1)\n"
     ]
    }
   ],
   "source": [
    "print(np.asarray(dataset.channels()).T.shape)"
   ]
  },
  {
   "cell_type": "code",
   "execution_count": null,
   "metadata": {
    "collapsed": true
   },
   "outputs": [],
   "source": []
  }
 ],
 "metadata": {
  "kernelspec": {
   "display_name": "Python 3",
   "language": "python",
   "name": "python3"
  },
  "language_info": {
   "codemirror_mode": {
    "name": "ipython",
    "version": 3
   },
   "file_extension": ".py",
   "mimetype": "text/x-python",
   "name": "python",
   "nbconvert_exporter": "python",
   "pygments_lexer": "ipython3",
   "version": "3.5.1"
  }
 },
 "nbformat": 4,
 "nbformat_minor": 1
}
