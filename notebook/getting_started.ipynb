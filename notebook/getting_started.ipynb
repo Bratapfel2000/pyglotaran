{
 "cells": [
  {
   "cell_type": "code",
   "execution_count": 14,
   "metadata": {},
   "outputs": [
    {
     "ename": "ImportError",
     "evalue": "cannot import name 'parse_yml'",
     "output_type": "error",
     "traceback": [
      "\u001b[0;31m---------------------------------------------------------------------------\u001b[0m",
      "\u001b[0;31mImportError\u001b[0m                               Traceback (most recent call last)",
      "\u001b[0;32m<ipython-input-14-6aa7ac76c860>\u001b[0m in \u001b[0;36m<module>\u001b[0;34m()\u001b[0m\n\u001b[1;32m      6\u001b[0m \u001b[0;31m# Of course we want Glotaran\u001b[0m\u001b[0;34m\u001b[0m\u001b[0;34m\u001b[0m\u001b[0m\n\u001b[1;32m      7\u001b[0m \u001b[0;32mimport\u001b[0m \u001b[0mglotaran\u001b[0m\u001b[0;34m.\u001b[0m\u001b[0mmodel\u001b[0m \u001b[0;32mas\u001b[0m \u001b[0mgta\u001b[0m\u001b[0;34m\u001b[0m\u001b[0m\n\u001b[0;32m----> 8\u001b[0;31m \u001b[0;32mfrom\u001b[0m \u001b[0mglotaran\u001b[0m \u001b[0;32mimport\u001b[0m \u001b[0mparse_yml\u001b[0m\u001b[0;34m\u001b[0m\u001b[0m\n\u001b[0m\u001b[1;32m      9\u001b[0m \u001b[0;31m# This things we just need for simulations, you can leave them out for fitting\u001b[0m\u001b[0;34m\u001b[0m\u001b[0;34m\u001b[0m\u001b[0m\n\u001b[1;32m     10\u001b[0m \u001b[0;32mfrom\u001b[0m \u001b[0mlmfit\u001b[0m \u001b[0;32mimport\u001b[0m \u001b[0mParameters\u001b[0m\u001b[0;34m\u001b[0m\u001b[0m\n",
      "\u001b[0;31mImportError\u001b[0m: cannot import name 'parse_yml'"
     ]
    }
   ],
   "source": [
    "# Imports, always include this at the beginning\n",
    "\n",
    "# No science without NumPy\n",
    "import numpy as np\n",
    "\n",
    "# Of course we want Glotaran\n",
    "import glotaran.model as gta\n",
    "from glotaran import parse_yml\n",
    "# This things we just need for simulations, you can leave them out for fitting\n",
    "from lmfit import Parameters"
   ]
  },
  {
   "cell_type": "code",
   "execution_count": 12,
   "metadata": {},
   "outputs": [
    {
     "ename": "AttributeError",
     "evalue": "module 'glotaran.model' has no attribute '__all__'",
     "output_type": "error",
     "traceback": [
      "\u001b[0;31m---------------------------------------------------------------------------\u001b[0m",
      "\u001b[0;31mAttributeError\u001b[0m                            Traceback (most recent call last)",
      "\u001b[0;32m<ipython-input-12-8a4e3baf0f5f>\u001b[0m in \u001b[0;36m<module>\u001b[0;34m()\u001b[0m\n\u001b[1;32m     30\u001b[0m \u001b[0;34m\u001b[0m\u001b[0m\n\u001b[1;32m     31\u001b[0m \u001b[0;31m# Then we can create our model\u001b[0m\u001b[0;34m\u001b[0m\u001b[0;34m\u001b[0m\u001b[0m\n\u001b[0;32m---> 32\u001b[0;31m \u001b[0mprint\u001b[0m\u001b[0;34m(\u001b[0m\u001b[0mgta\u001b[0m\u001b[0;34m.\u001b[0m\u001b[0m__all__\u001b[0m\u001b[0;34m)\u001b[0m\u001b[0;34m\u001b[0m\u001b[0m\n\u001b[0m\u001b[1;32m     33\u001b[0m \u001b[0mmodel\u001b[0m \u001b[0;34m=\u001b[0m \u001b[0mgta\u001b[0m\u001b[0;34m.\u001b[0m\u001b[0mparse\u001b[0m\u001b[0;34m(\u001b[0m\u001b[0mmodel_spec\u001b[0m\u001b[0;34m.\u001b[0m\u001b[0m__all__\u001b[0m\u001b[0;34m)\u001b[0m\u001b[0;34m\u001b[0m\u001b[0m\n",
      "\u001b[0;31mAttributeError\u001b[0m: module 'glotaran.model' has no attribute '__all__'"
     ]
    }
   ],
   "source": [
    "# First we define our model specification. See the documentation for details how to do so.\n",
    "model_spec = '''\n",
    "type: kinetic\n",
    "\n",
    "parameters: [101e-1, 202e-5,505e-6]\n",
    "\n",
    "compartments: [s1, s2, s3]\n",
    "\n",
    "megacomplexes:\n",
    "    - label: mc1\n",
    "      k_matrices: [k1]\n",
    "\n",
    "k_matrices:\n",
    "  - label: \"k1\"\n",
    "    matrix: {\n",
    "      '(\"s1\",\"s1\")': 1,\n",
    "      '(\"s2\",\"s2\")': 2,\n",
    "      '(\"s3\",\"s3\")': 3,\n",
    "}\n",
    "\n",
    "initial_concentrations: []\n",
    "\n",
    "irf: []\n",
    "\n",
    "datasets: \n",
    "  - label: dataset1\n",
    "    type: spectral\n",
    "    megacomplexes: [mc1]\n",
    "'''\n",
    "\n",
    "# Then we can create our model\n",
    "model = gta.parse(model_spec.__all__)"
   ]
  },
  {
   "cell_type": "code",
   "execution_count": null,
   "metadata": {},
   "outputs": [],
   "source": [
    "# Now let us define some simulation parameters\n",
    "sim_params = Parameters()\n",
    "sim_params.add(\"p1\", 101e-3)\n",
    "sim_params.add(\"p2\",202e-4)\n",
    "sim_params.add(\"p3\",505e-5)\n",
    "\n",
    "# We also need a spectral, a time axis and some amplitudes\n",
    "spectral_axis = np.arange(600, 750, 1)\n",
    "time_axis = np.arange(0, 1500, 1.5)\n",
    "amplitudes = [1,0.1,7]\n",
    "\n",
    "# Now we can simulate the data\n",
    "model.fit_model().eval(simparams, **{'dataset':'dataset1', 'x': x})"
   ]
  },
  {
   "cell_type": "code",
   "execution_count": null,
   "metadata": {},
   "outputs": [],
   "source": [
    "\n",
    "#fitmodel = KineticSeparableModel(model)\n"
   ]
  },
  {
   "cell_type": "code",
   "execution_count": null,
   "metadata": {},
   "outputs": [],
   "source": []
  }
 ],
 "metadata": {
  "kernelspec": {
   "display_name": "Python 3",
   "language": "python",
   "name": "python3"
  },
  "language_info": {
   "codemirror_mode": {
    "name": "ipython",
    "version": 3
   },
   "file_extension": ".py",
   "mimetype": "text/x-python",
   "name": "python",
   "nbconvert_exporter": "python",
   "pygments_lexer": "ipython3",
   "version": "3.6.5"
  }
 },
 "nbformat": 4,
 "nbformat_minor": 2
}
