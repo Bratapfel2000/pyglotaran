{
 "cells": [
  {
   "cell_type": "code",
   "execution_count": 1,
   "metadata": {},
   "outputs": [],
   "source": [
    "# Imports, always include this at the beginning\n",
    "\n",
    "# No science without NumPy\n",
    "import numpy as np\n",
    "\n",
    "# Matplotlib for plotting\n",
    "import matplotlib.pyplot as plt\n",
    "%matplotlib notebook\n",
    "\n",
    "# Of course we want Glotaran\n",
    "import glotaran as gta\n",
    "# This things we just need for simulations, you can leave them out for fitting\n",
    "from lmfit import Parameters"
   ]
  },
  {
   "cell_type": "code",
   "execution_count": 2,
   "metadata": {},
   "outputs": [],
   "source": [
    "# First we define our model specification. See the documentation for details how to do so.\n",
    "model_spec = '''\n",
    "type: kinetic\n",
    "\n",
    "parameters: [101e-1, 202e-5,505e-6]\n",
    "\n",
    "compartments: [s1, s2, s3]\n",
    "\n",
    "megacomplexes:\n",
    "    - label: mc1\n",
    "      k_matrices: [k1]\n",
    "\n",
    "k_matrices:\n",
    "  - label: \"k1\"\n",
    "    matrix: {\n",
    "      '(\"s1\",\"s1\")': 1,\n",
    "      '(\"s2\",\"s2\")': 2,\n",
    "      '(\"s3\",\"s3\")': 3,\n",
    "}\n",
    "\n",
    "initial_concentrations: []\n",
    "\n",
    "irf: []\n",
    "\n",
    "shapes:\n",
    "  - label: \"shape1\"\n",
    "    type: \"gaussian\"\n",
    "    amplitude: shape.1\n",
    "    location: shape.2\n",
    "    width: shape.3\n",
    "  - [\"shape3\", \"gaussian\", shape.6, shape.7, shape.8]\n",
    "\n",
    "datasets: \n",
    "  - label: dataset1\n",
    "    type: spectral\n",
    "    megacomplexes: [mc1]\n",
    "'''\n",
    "\n",
    "# Then we can create our model\n",
    "model = gta.parse(model_spec)"
   ]
  },
  {
   "cell_type": "code",
   "execution_count": 3,
   "metadata": {},
   "outputs": [],
   "source": [
    "# Now let us define some simulation parameters\n",
    "sim_params = Parameters()\n",
    "sim_params.add(\"p_1\", 101e-3)\n",
    "sim_params.add(\"p_2\",202e-4)\n",
    "sim_params.add(\"p_3\",505e-5)\n",
    "\n",
    "# We also need a spectral, a time axis and some amplitudes\n",
    "spectral_axis = np.arange(600, 750, 1)\n",
    "time_axis = np.arange(0, 1500, 1.5)\n",
    "amplitudes = [1,0.1,7]\n",
    "\n",
    "# Now we can simulate the data\n",
    "model.simulate('dataset1', {\"spectral\": spectral_axis, \"time\": time_axis}, parameter=sim_params)"
   ]
  },
  {
   "cell_type": "code",
   "execution_count": 4,
   "metadata": {},
   "outputs": [
    {
     "data": {
      "image/png": "[encoded data removed]",
      "text/plain": [
       "<Figure size 432x288 with 1 Axes>"
      ]
     },
     "metadata": {},
     "output_type": "display_data"
    }
   ],
   "source": [
    "# Plot the simulated data\n",
    "\n",
    "data = model.datasets[\"dataset1\"].data.data\n",
    "\n",
    "fig = plt.figure()\n",
    "plt.xlabel('Time (ps)')\n",
    "plt.ylabel('Pixel')\n",
    "plt.pcolormesh(time_axis, spectral_axis, data)\n",
    "plt.show()"
   ]
  },
  {
   "cell_type": "code",
   "execution_count": 5,
   "metadata": {},
   "outputs": [
    {
     "name": "stdout",
     "output_type": "stream",
     "text": [
      "   Iteration     Total nfev        Cost      Cost reduction    Step norm     Optimality   \n",
      "       0              1         2.7824e+03                                    9.52e+05    \n",
      "       1              2         4.9794e+02      2.28e+03       1.01e+01       1.35e+05    \n",
      "       2              3         3.2409e+02      1.74e+02       3.26e-03       5.14e+04    \n",
      "       3              5         2.4604e+02      7.80e+01       3.43e-03       3.69e+04    \n",
      "       4              6         1.5728e+02      8.88e+01       6.86e-03       4.60e+04    \n",
      "       5              7         3.8757e+01      1.19e+02       1.08e-02       1.11e+04    \n",
      "       6              8         1.6346e+01      2.24e+01       1.37e-02       1.12e+03    \n",
      "       7             10         1.1571e+01      4.78e+00       4.83e-03       8.80e+02    \n",
      "       8             11         1.0188e+01      1.38e+00       9.65e-03       6.15e+03    \n",
      "       9             12         6.4859e+00      3.70e+00       9.65e-03       1.07e+04    \n",
      "      10             13         1.4418e+00      5.04e+00       9.65e-03       1.44e+02    \n",
      "      11             14         5.0428e-01      9.38e-01       1.93e-02       3.27e+03    \n",
      "      12             15         4.6781e-03      5.00e-01       1.08e-02       3.95e+02    \n",
      "      13             16         5.5041e-08      4.68e-03       4.71e-04       1.72e+00    \n",
      "      14             17         2.5151e-18      5.50e-08       3.94e-07       1.18e-05    \n",
      "      15             18         1.3999e-28      2.52e-18       8.63e-12       2.80e-12    \n",
      "`gtol` termination condition is satisfied.\n",
      "Function evaluations 18, initial cost 2.7824e+03, final cost 1.3999e-28, first-order optimality 2.80e-12.\n"
     ]
    }
   ],
   "source": [
    "result = model.fit()"
   ]
  },
  {
   "cell_type": "code",
   "execution_count": 6,
   "metadata": {},
   "outputs": [
    {
     "name": "stdout",
     "output_type": "stream",
     "text": [
      "Name     Value      Min      Max   Stderr     Vary     Expr Brute_Step\n",
      "p_1    0.0202     -inf      inf     None     True     None     None\n",
      "p_2     0.101     -inf      inf     None     True     None     None\n",
      "p_3   0.00505     -inf      inf     None     True     None     None\n"
     ]
    }
   ],
   "source": [
    "result.best_fit_parameter.pretty_print()"
   ]
  },
  {
   "cell_type": "code",
   "execution_count": null,
   "metadata": {},
   "outputs": [],
   "source": []
  }
 ],
 "metadata": {
  "kernelspec": {
   "display_name": "Python 3",
   "language": "python",
   "name": "python3"
  },
  "language_info": {
   "codemirror_mode": {
    "name": "ipython",
    "version": 3
   },
   "file_extension": ".py",
   "mimetype": "text/x-python",
   "name": "python",
   "nbconvert_exporter": "python",
   "pygments_lexer": "ipython3",
   "version": "3.6.5"
  }
 },
 "nbformat": 4,
 "nbformat_minor": 2
}
