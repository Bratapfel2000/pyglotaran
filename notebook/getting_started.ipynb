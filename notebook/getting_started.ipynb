{
 "cells": [
  {
   "cell_type": "code",
   "execution_count": null,
   "metadata": {},
   "outputs": [],
   "source": [
    "# Imports, always include this at the beginning\n",
    "\n",
    "# No science without NumPy\n",
    "import numpy as np\n",
    "\n",
    "# Matplotlib for plotting\n",
    "import matplotlib.pyplot as plt\n",
    "%matplotlib notebook\n",
    "\n",
    "# Of course we want Glotaran\n",
    "import glotaran as gta\n",
    "# This things we just need for simulations, you can leave them out for fitting\n",
    "from lmfit import Parameters"
   ]
  },
  {
   "cell_type": "code",
   "execution_count": null,
   "metadata": {},
   "outputs": [],
   "source": [
    "# First we define our model specification. See the documentation for details how to do so.\n",
    "model_spec = '''\n",
    "type: kinetic\n",
    "\n",
    "parameters: [101e-1, 202e-5,505e-6]\n",
    "\n",
    "compartments: [s1, s2, s3]\n",
    "\n",
    "megacomplexes:\n",
    "    - label: mc1\n",
    "      k_matrices: [k1]\n",
    "\n",
    "k_matrices:\n",
    "  - label: \"k1\"\n",
    "    matrix: {\n",
    "      '(\"s1\",\"s1\")': 1,\n",
    "      '(\"s2\",\"s2\")': 2,\n",
    "      '(\"s3\",\"s3\")': 3,\n",
    "}\n",
    "\n",
    "initial_concentrations: []\n",
    "\n",
    "irf: []\n",
    "\n",
    "shapes:\n",
    "  - label: \"shape1\"\n",
    "    type: \"gaussian\"\n",
    "    amplitude: shape.1\n",
    "    location: shape.2\n",
    "    width: shape.3\n",
    "  - [\"shape3\", \"gaussian\", shape.6, shape.7, shape.8]\n",
    "\n",
    "datasets: \n",
    "  - label: dataset1\n",
    "    type: spectral\n",
    "    megacomplexes: [mc1]\n",
    "'''\n",
    "\n",
    "# Then we can create our model\n",
    "model = gta.parse(model_spec)"
   ]
  },
  {
   "cell_type": "code",
   "execution_count": null,
   "metadata": {},
   "outputs": [],
   "source": [
    "# Now let us define some simulation parameters\n",
    "sim_params = Parameters()\n",
    "sim_params.add(\"p_1\", 101e-3)\n",
    "sim_params.add(\"p_2\",202e-4)\n",
    "sim_params.add(\"p_3\",505e-5)\n",
    "\n",
    "# We also need a spectral, a time axis and some amplitudes\n",
    "spectral_axis = np.arange(600, 750, 1)\n",
    "time_axis = np.arange(0, 1500, 1.5)\n",
    "amplitudes = [1,0.1,7]\n",
    "\n",
    "# Now we can simulate the data\n",
    "model.simulate('dataset1', {\"spectral\": spectral_axis, \"time\": time_axis}, parameter=sim_params)"
   ]
  },
  {
   "cell_type": "code",
   "execution_count": null,
   "metadata": {},
   "outputs": [],
   "source": [
    "# Plot the simulated data\n",
    "\n",
    "data = model.datasets[\"dataset1\"].data.data\n",
    "\n",
    "fig = plt.figure()\n",
    "plt.xlabel('Time (ps)')\n",
    "plt.ylabel('Pixel')\n",
    "plt.pcolormesh(time_axis, spectral_axis, data)\n",
    "plt.show()"
   ]
  },
  {
   "cell_type": "code",
   "execution_count": null,
   "metadata": {},
   "outputs": [],
   "source": [
    "result = model.fit()"
   ]
  },
  {
   "cell_type": "code",
   "execution_count": null,
   "metadata": {},
   "outputs": [],
   "source": [
    "result.best_fit_parameter.pretty_print()"
   ]
  },
  {
   "cell_type": "code",
   "execution_count": null,
   "metadata": {},
   "outputs": [],
   "source": [
    "lsv, s, rsv = result.final_residual_svd()"
   ]
  },
  {
   "cell_type": "code",
   "execution_count": null,
   "metadata": {},
   "outputs": [],
   "source": [
    "fig, [ax1, ax2, ax3] = plt.subplots(1, 3)\n",
    "fig.set_size_inches(10, 3)\n",
    "ax1.set_title('lsv')\n",
    "ax1.pcolormesh(lsv)\n",
    "ax2.set_title('s')\n",
    "ax2.plot(s[:5])\n",
    "ax3.set_title('rsv')\n",
    "ax3.pcolormesh(rsv)"
   ]
  },
  {
   "cell_type": "code",
   "execution_count": null,
   "metadata": {},
   "outputs": [],
   "source": [
    "plt.pcolormesh(result.eval('dataset1'))"
   ]
  },
  {
   "cell_type": "code",
   "execution_count": null,
   "metadata": {},
   "outputs": [],
   "source": []
  }
 ],
 "metadata": {
  "kernelspec": {
   "display_name": "Python 3",
   "language": "python",
   "name": "python3"
  },
  "language_info": {
   "codemirror_mode": {
    "name": "ipython",
    "version": 3
   },
   "file_extension": ".py",
   "mimetype": "text/x-python",
   "name": "python",
   "nbconvert_exporter": "python",
   "pygments_lexer": "ipython3",
   "version": "3.6.5"
  }
 },
 "nbformat": 4,
 "nbformat_minor": 2
}
