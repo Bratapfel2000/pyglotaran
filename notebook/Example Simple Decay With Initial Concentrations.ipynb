{
 "cells": [
  {
   "cell_type": "code",
   "execution_count": 18,
   "metadata": {
    "collapsed": false
   },
   "outputs": [],
   "source": [
    "from glotaran_tools.specification_parser import parse_yml\n",
    "from glotaran_core.model import Dataset\n",
    "from glotaran_models.kinetic import KineticSeperableModel\n",
    "import numpy as np\n",
    "from lmfit import Parameters\n",
    "\n",
    "fitspec = '''\n",
    "type: kinetic\n",
    "\n",
    "parameter: {}\n",
    "\n",
    "compartments: [s1, s2, s3]\n",
    "\n",
    "initial_concentrations:\n",
    "    - label: i1\n",
    "      parameter: [4,5,6]\n",
    "\n",
    "megacomplexes:\n",
    "    - label: mc1\n",
    "      k_matrices: [k1]\n",
    "\n",
    "k_matrices:\n",
    "  - label: \"k1\"\n",
    "    matrix: {{\n",
    "      '(\"s1\",\"s1\")': 1,\n",
    "      '(\"s2\",\"s2\")': 2,\n",
    "      '(\"s3\",\"s3\")': 3,\n",
    "}}\n",
    "\n",
    "irf: []\n",
    "\n",
    "datasets: \n",
    "  - label: dataset1\n",
    "    type: spectral\n",
    "    initial_concentration: i1\n",
    "    megacomplexes: [mc1]\n",
    "    path: 'data/dataset1.ascii'\n",
    "\n",
    "'''\n",
    "   "
   ]
  },
  {
   "cell_type": "code",
   "execution_count": 19,
   "metadata": {
    "collapsed": false
   },
   "outputs": [],
   "source": [
    "test_parameter = [301e-4, 502e-5, 705e-6, 20, 200, 1000]\n",
    "test_amps = [1,2,3]\n",
    "times = np.asarray(np.arange(0, 1500, 1.5))\n",
    "simparams = Parameters()\n",
    "simparams.add(\"p1\", 101e-3)\n",
    "simparams.add(\"p2\",202e-4)\n",
    "simparams.add(\"p3\",505e-5)\n",
    "simparams.add(\"p4\",1)\n",
    "simparams.add(\"p5\",1)\n",
    "simparams.add(\"p6\",1)"
   ]
  },
  {
   "cell_type": "code",
   "execution_count": 20,
   "metadata": {
    "collapsed": false
   },
   "outputs": [],
   "source": [
    "        \n",
    "model = parse_yml(fitspec.format(test_parameter))"
   ]
  },
  {
   "cell_type": "code",
   "execution_count": 21,
   "metadata": {
    "collapsed": false
   },
   "outputs": [],
   "source": [
    "fitmodel = KineticSeperableModel(model)"
   ]
  },
  {
   "cell_type": "code",
   "execution_count": 22,
   "metadata": {
    "collapsed": false
   },
   "outputs": [],
   "source": [
    "data = fitmodel.eval(simparams, *times, **{'dataset':'dataset1','amplitudes':[10, 200, 3000]})"
   ]
  },
  {
   "cell_type": "code",
   "execution_count": 23,
   "metadata": {
    "collapsed": false
   },
   "outputs": [
    {
     "name": "stdout",
     "output_type": "stream",
     "text": [
      "   Iteration     Total nfev        Cost      Cost reduction    Step norm     Optimality   \n",
      "       0              1         6.2584e-01                                    9.36e+01    \n",
      "       1              2         2.9665e-01      3.29e-01       1.02e+03       2.36e+02    \n",
      "       2              3         1.0403e-01      1.93e-01       2.04e+03       3.04e+01    \n",
      "       3              4         7.6585e-02      2.74e-02       4.08e+03       3.82e+01    \n",
      "       4             16         6.3708e-02      1.29e-02       1.95e-03       2.01e+01    \n",
      "       5             17         4.8433e-02      1.53e-02       1.95e-03       8.92e+00    \n",
      "       6             18         3.6169e-02      1.23e-02       3.89e-03       1.53e+01    \n",
      "       7             19         1.8026e-02      1.81e-02       7.78e-03       7.97e+00    \n",
      "       8             20         3.9106e-03      1.41e-02       1.56e-02       6.20e+00    \n",
      "       9             21         1.3361e-04      3.78e-03       3.11e-02       4.90e+00    \n",
      "      10             22         4.1668e-08      1.34e-04       6.23e-02       1.27e-01    \n",
      "      11             23         6.1077e-16      4.17e-08       1.25e-01       8.76e-06    \n",
      "      12             29         1.4579e-16      4.65e-16       2.43e-04       4.28e-06    \n",
      "      13             30         5.6349e-18      1.40e-16       4.86e-04       8.42e-07    \n",
      "      14             31         3.7012e-20      5.60e-18       9.73e-04       6.82e-08    \n",
      "      15             32         2.9906e-20      7.11e-21       1.95e-03       6.13e-08    \n",
      "      16             34         1.5928e-20      1.40e-20       9.73e-04       4.47e-08    \n",
      "      17             37         1.2419e-20      3.51e-21       1.22e-04       3.95e-08    \n",
      "      18             38         1.1718e-20      7.01e-22       2.43e-04       3.84e-08    \n",
      "      19             39         5.3766e-21      6.34e-21       4.86e-04       2.60e-08    \n",
      "      20             41         2.6255e-21      2.75e-21       2.43e-04       1.82e-08    \n",
      "      21             43         3.6553e-25      2.63e-21       1.22e-04       2.14e-10    \n",
      "      22             44         1.8769e-28      3.65e-25       2.43e-04       4.21e-13    \n",
      "`gtol` termination condition is satisfied.\n",
      "Function evaluations 44, initial cost 6.2584e-01, final cost 1.8769e-28, first-order optimality 4.21e-13.\n",
      "Parameters([('p1', <Parameter 'p1', 0.10099999999999988, bounds=[-inf:inf]>), ('p2', <Parameter 'p2', 0.020199999999999985, bounds=[-inf:inf]>), ('p3', <Parameter 'p3', 0.0050499999999999998, bounds=[-inf:inf]>), ('p4', <Parameter 'p4', -2284.207074325273, bounds=[-inf:inf]>), ('p5', <Parameter 'p5', 3683.8676162184879, bounds=[-inf:inf]>), ('p6', <Parameter 'p6', 1066.8541813829513, bounds=[-inf:inf]>)])\n",
      "Name     Value      Min      Max   Stderr     Vary     Expr\n",
      "p1     0.101     -inf      inf     None     True     None\n",
      "p2    0.0202     -inf      inf     None     True     None\n",
      "p3   0.00505     -inf      inf     None     True     None\n",
      "p4     -2284     -inf      inf     None     True     None\n",
      "p5      3684     -inf      inf     None     True     None\n",
      "p6      1067     -inf      inf     None     True     None\n"
     ]
    }
   ],
   "source": [
    "result = fitmodel.fit(fitmodel.get_initial_fitting_parameter(), \n",
    "                      *times, \n",
    "                      **{\"data\": data}\n",
    "                     )\n",
    "print(result.params)\n",
    "result.params.pretty_print()"
   ]
  },
  {
   "cell_type": "code",
   "execution_count": null,
   "metadata": {
    "collapsed": true
   },
   "outputs": [],
   "source": []
  }
 ],
 "metadata": {
  "kernelspec": {
   "display_name": "Python 3",
   "language": "python",
   "name": "python3"
  },
  "language_info": {
   "codemirror_mode": {
    "name": "ipython",
    "version": 3
   },
   "file_extension": ".py",
   "mimetype": "text/x-python",
   "name": "python",
   "nbconvert_exporter": "python",
   "pygments_lexer": "ipython3",
   "version": "3.5.1"
  }
 },
 "nbformat": 4,
 "nbformat_minor": 1
}
