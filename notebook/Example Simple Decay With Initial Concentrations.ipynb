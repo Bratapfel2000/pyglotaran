{
 "cells": [
  {
   "cell_type": "code",
   "execution_count": 1,
   "metadata": {
    "collapsed": false
   },
   "outputs": [],
   "source": [
    "from glotaran_tools.specification_parser import parse_yml\n",
    "from glotaran_core.model import Dataset\n",
    "from glotaran_models.kinetic import KineticSeperableModel\n",
    "import numpy as np\n",
    "from lmfit import Parameters\n",
    "# Imports for plotting\n",
    "\n",
    "import matplotlib.pyplot as plt\n",
    "%matplotlib notebook\n",
    "\n",
    "fitspec = '''\n",
    "type: kinetic\n",
    "\n",
    "parameter: {}\n",
    "\n",
    "compartments: [s1, s2, s3]\n",
    "\n",
    "initial_concentrations:\n",
    "    - label: i1\n",
    "      parameter: [4,5,6]\n",
    "\n",
    "megacomplexes:\n",
    "    - label: mc1\n",
    "      k_matrices: [k1]\n",
    "\n",
    "k_matrices:\n",
    "  - label: \"k1\"\n",
    "    matrix: {{\n",
    "      '(\"s1\",\"s1\")': 1,\n",
    "      '(\"s2\",\"s2\")': 2,\n",
    "      '(\"s3\",\"s3\")': 3,\n",
    "}}\n",
    "\n",
    "irf: []\n",
    "\n",
    "datasets: \n",
    "  - label: dataset1\n",
    "    type: spectral\n",
    "    initial_concentration: i1\n",
    "    megacomplexes: [mc1]\n",
    "    path: 'data/dataset1.ascii'\n",
    "\n",
    "'''\n",
    "   "
   ]
  },
  {
   "cell_type": "code",
   "execution_count": 10,
   "metadata": {
    "collapsed": false
   },
   "outputs": [],
   "source": [
    "test_parameter = [101e-4, 202e-5, 505e-6, 80, 200, 300]\n",
    "test_amps = [1,2,3]\n",
    "times = np.asarray(np.arange(0, 1500, 1.5))\n",
    "simparams = Parameters()\n",
    "simparams.add(\"p1\", 101e-3)\n",
    "simparams.add(\"p2\",202e-4)\n",
    "simparams.add(\"p3\",505e-5)\n",
    "simparams.add(\"p4\",20)\n",
    "simparams.add(\"p5\",300)\n",
    "simparams.add(\"p6\",200)"
   ]
  },
  {
   "cell_type": "code",
   "execution_count": 11,
   "metadata": {
    "collapsed": false
   },
   "outputs": [],
   "source": [
    "        \n",
    "model = parse_yml(fitspec.format(test_parameter))"
   ]
  },
  {
   "cell_type": "code",
   "execution_count": 12,
   "metadata": {
    "collapsed": false
   },
   "outputs": [],
   "source": [
    "fitmodel = KineticSeperableModel(model)"
   ]
  },
  {
   "cell_type": "code",
   "execution_count": 13,
   "metadata": {
    "collapsed": false
   },
   "outputs": [],
   "source": [
    "data = fitmodel.eval(simparams, *times, **{'dataset':'dataset1','amplitudes':[10, 200, 3000]})"
   ]
  },
  {
   "cell_type": "code",
   "execution_count": 14,
   "metadata": {
    "collapsed": false,
    "scrolled": true
   },
   "outputs": [
    {
     "name": "stdout",
     "output_type": "stream",
     "text": [
      "(1000, 3)\n"
     ]
    }
   ],
   "source": [
    "c = fitmodel.c_matrix(fitmodel.get_initial_fitting_parameter().valuesdict(), *times)\n",
    "print(c.shape)"
   ]
  },
  {
   "cell_type": "code",
   "execution_count": 15,
   "metadata": {
    "collapsed": false
   },
   "outputs": [
    {
     "name": "stdout",
     "output_type": "stream",
     "text": [
      "   Iteration     Total nfev        Cost      Cost reduction    Step norm     Optimality   \n",
      "       0              1         2.4004e+04                                    9.70e+06    \n",
      "       1             10         1.9183e+04      4.82e+03       5.64e-03       6.34e+06    \n",
      "       2             11         4.1407e+03      1.50e+04       5.64e-03       7.47e+06    \n",
      "       3             12         6.0917e+02      3.53e+03       1.13e-02       2.38e+06    \n",
      "       4             13         1.5118e+02      4.58e+02       2.25e-02       1.46e+05    \n",
      "       5             14         1.4474e+02      6.44e+00       4.51e-02       1.42e+05    \n",
      "       6             18         1.4273e+02      2.01e+00       1.41e-03       7.74e+04    \n",
      "       7             19         1.2676e+02      1.60e+01       3.52e-04       1.44e+04    \n",
      "       8             20         1.2336e+02      3.40e+00       7.04e-04       3.29e+04    \n",
      "       9             21         1.1616e+02      7.20e+00       7.04e-04       2.28e+04    \n",
      "      10             22         1.1348e+02      2.68e+00       1.41e-03       1.12e+05    \n",
      "      11             23         9.9236e+01      1.42e+01       1.41e-03       1.55e+04    \n",
      "      12             24         8.7765e+01      1.15e+01       2.82e-03       1.01e+05    \n",
      "      13             25         8.0708e+01      7.06e+00       5.64e-03       2.15e+05    \n",
      "      14             26         5.1055e+01      2.97e+01       5.64e-03       1.55e+05    \n",
      "      15             28         4.1445e+01      9.61e+00       2.82e-03       2.50e+04    \n",
      "      16             29         3.2922e+01      8.52e+00       5.64e-03       1.08e+05    \n",
      "      17             30         2.1481e+01      1.14e+01       1.13e-02       1.95e+05    \n",
      "      18             31         8.6894e+00      1.28e+01       1.13e-02       6.07e+04    \n",
      "      19             32         3.8577e+00      4.83e+00       2.25e-02       1.64e+05    \n",
      "      20             33         1.2412e-02      3.85e+00       2.25e-02       1.19e+04    \n",
      "      21             34         1.1327e-08      1.24e-02       4.51e-02       9.18e+00    \n",
      "      22             35         2.1671e-18      1.13e-08       1.48e-03       1.46e-04    \n",
      "      23             36         1.0478e-23      2.17e-18       1.86e-05       1.60e-08    \n",
      "      24             37         4.4673e-24      6.01e-24       1.88e-05       4.83e-09    \n",
      "      25             39         3.1455e-24      1.32e-24       1.39e-06       1.71e-09    \n",
      "`xtol` termination condition is satisfied.\n",
      "Function evaluations 39, initial cost 2.4004e+04, final cost 3.1455e-24, first-order optimality 1.71e-09.\n",
      "Parameters([('p1', <Parameter 'p1', 0.10100000000001888, bounds=[-inf:inf]>), ('p2', <Parameter 'p2', 0.020200000000000145, bounds=[-inf:inf]>), ('p3', <Parameter 'p3', 0.0050500000000000059, bounds=[-inf:inf]>), ('p4', <Parameter 'p4', 79.979701001518265, bounds=[-inf:inf]>), ('p5', <Parameter 'p5', 200.03460536815851, bounds=[-inf:inf]>), ('p6', <Parameter 'p6', 300.00894966313291, bounds=[-inf:inf]>)])\n"
     ]
    }
   ],
   "source": [
    "result = fitmodel.fit(fitmodel.get_initial_fitting_parameter(), \n",
    "                      *times, \n",
    "                      **{\"data\": data}\n",
    "                     )\n",
    "print(result.params)"
   ]
  },
  {
   "cell_type": "code",
   "execution_count": null,
   "metadata": {
    "collapsed": true
   },
   "outputs": [],
   "source": []
  }
 ],
 "metadata": {
  "kernelspec": {
   "display_name": "Python 3",
   "language": "python",
   "name": "python3"
  },
  "language_info": {
   "codemirror_mode": {
    "name": "ipython",
    "version": 3
   },
   "file_extension": ".py",
   "mimetype": "text/x-python",
   "name": "python",
   "nbconvert_exporter": "python",
   "pygments_lexer": "ipython3",
   "version": "3.5.1"
  }
 },
 "nbformat": 4,
 "nbformat_minor": 1
}
