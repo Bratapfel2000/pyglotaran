{
 "cells": [
  {
   "cell_type": "code",
   "execution_count": 1,
   "metadata": {
    "collapsed": false
   },
   "outputs": [],
   "source": [
    "from glotaran_core import create_parameter_list, Parameter, KineticModel, KMatrix, KineticMegacomplex\n",
    "from scipy.sparse import dok_matrix\n",
    "import numpy as np"
   ]
  },
  {
   "cell_type": "code",
   "execution_count": 2,
   "metadata": {
    "collapsed": false
   },
   "outputs": [
    {
     "name": "stdout",
     "output_type": "stream",
     "text": [
      "Parameter\n",
      "---------\n",
      "\n",
      "Index: 1 Initial Value: 1.0 Label: None\n",
      "Index: 2 Initial Value: 3.0 Label: k1\n",
      "Index: 3 Initial Value: 4.0 Label: k2\n",
      "Index: 4 Initial Value: 5.87 Label: k3\n",
      "\n",
      "\n",
      "K-Matrices\n",
      "----------\n",
      "\n",
      "Label: km1\n",
      "Matrix:\n",
      "[[2 0 0]\n",
      " [0 3 0]\n",
      " [0 0 4]]\n",
      "\n",
      "\n"
     ]
    }
   ],
   "source": [
    "model = KineticModel()\n",
    "\n",
    "plist = create_parameter_list([1, [\"k1\",3]])\n",
    "model.add_parameter(plist)\n",
    "model.add_parameter(Parameter(4, label=\"k2\"))\n",
    "model.add_parameter(Parameter(5.87, label=\"k3\"))\n",
    "\n",
    "m = dok_matrix((3, 3), dtype=np.int32)\n",
    "m[0, 0] = 2\n",
    "m[1, 1] = 3\n",
    "m[2, 2] = 4\n",
    "km1 = KMatrix(\"km1\", m)\n",
    "model.add_k_matrix(km1)\n",
    "cmplx1 = KineticMegacomplex(\"cmplx1\", \"km1\")\n",
    "\n",
    "print(model)\n",
    "    "
   ]
  },
  {
   "cell_type": "code",
   "execution_count": null,
   "metadata": {
    "collapsed": false
   },
   "outputs": [],
   "source": []
  },
  {
   "cell_type": "code",
   "execution_count": null,
   "metadata": {
    "collapsed": true
   },
   "outputs": [],
   "source": []
  }
 ],
 "metadata": {
  "kernelspec": {
   "display_name": "Python 3",
   "language": "python",
   "name": "python3"
  },
  "language_info": {
   "codemirror_mode": {
    "name": "ipython",
    "version": 3
   },
   "file_extension": ".py",
   "mimetype": "text/x-python",
   "name": "python",
   "nbconvert_exporter": "python",
   "pygments_lexer": "ipython3",
   "version": "3.5.1"
  }
 },
 "nbformat": 4,
 "nbformat_minor": 1
}
