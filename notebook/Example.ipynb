{
 "cells": [
  {
   "cell_type": "code",
   "execution_count": null,
   "metadata": {
    "collapsed": true
   },
   "outputs": [],
   "source": [
    "# Imports\n",
    "from glotaran_tools import SimulatedSpectralTimetrace\n",
    "from glotaran_core import (KineticModel, KineticParameter, GaussianIrf, Datasets, GlobalAnalysis, Models)\n",
    "import numpy as np"
   ]
  },
  {
   "cell_type": "code",
   "execution_count": null,
   "metadata": {
    "collapsed": false
   },
   "outputs": [],
   "source": [
    "# simple simulation\n",
    "\n",
    "# Parameters\n",
    "\n",
    "time_max = 1500\n",
    "time_delta = 1\n",
    "wavenum_min = 12820\n",
    "wavenum_max = 15120\n",
    "wavenum_delta = 4\n",
    "locations = [14705, 13513, 14492, 14388, 14184, 13986]\n",
    "widths = [400, 1000, 300, 200, 350, 330]\n",
    "locations = [14705, 13513, 14492, 14388, 14184, 13986]\n",
    "amplitudes = [1, 0.2, 1, 1, 1, 1]\n",
    "# TODO: rates should be specified as decay rates, thus without the negative symbol, this is handeled internally\n",
    "rates = [-.006667, -.006667, -0.00333, -0.00035, -0.0303, -0.000909]"
   ]
  },
  {
   "cell_type": "code",
   "execution_count": null,
   "metadata": {
    "collapsed": true
   },
   "outputs": [],
   "source": [
    "# generate the dataset\n",
    "simulation = SimulatedSpectralTimetrace(amplitudes, rates, locations, widths, wavenum_min, wavenum_max, wavenum_delta,\n",
    "                                        time_max, time_delta)"
   ]
  },
  {
   "cell_type": "code",
   "execution_count": null,
   "metadata": {
    "collapsed": false
   },
   "outputs": [],
   "source": [
    "# Imports for plotting\n",
    "\n",
    "import matplotlib.pyplot as plt\n",
    "%matplotlib notebook"
   ]
  },
  {
   "cell_type": "code",
   "execution_count": null,
   "metadata": {
    "collapsed": false
   },
   "outputs": [],
   "source": [
    "# plot 2 channels\n",
    "fig1 = plt.figure()\n",
    "plt.plot(simulation.observations(), simulation.get_channel(12820))\n",
    "plt.plot(simulation.observations(), simulation.get_channels()[5])"
   ]
  },
  {
   "cell_type": "code",
   "execution_count": null,
   "metadata": {
    "collapsed": false
   },
   "outputs": [],
   "source": [
    "# Plot full trace\n",
    "\n",
    "fig2 = plt.figure()\n",
    "fig2.suptitle(simulation.label())\n",
    "plt.xlabel('Time (ps)')\n",
    "plt.ylabel('$Wavenumber\\ [\\ cm^{-1}\\ ]$')\n",
    "plt.pcolormesh(simulation.observations(), simulation.channel_labels(), simulation.get_channels())\n",
    "plt.show()"
   ]
  },
  {
   "cell_type": "code",
   "execution_count": null,
   "metadata": {
    "collapsed": true
   },
   "outputs": [],
   "source": []
  }
 ],
 "metadata": {
  "kernelspec": {
   "display_name": "Python 3",
   "language": "python",
   "name": "python3"
  },
  "language_info": {
   "codemirror_mode": {
    "name": "ipython",
    "version": 3
   },
   "file_extension": ".py",
   "mimetype": "text/x-python",
   "name": "python",
   "nbconvert_exporter": "python",
   "pygments_lexer": "ipython3",
   "version": "3.4.3"
  }
 },
 "nbformat": 4,
 "nbformat_minor": 1
}
